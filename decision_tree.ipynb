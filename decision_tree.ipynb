{
 "cells": [
  {
   "cell_type": "code",
   "execution_count": null,
   "metadata": {},
   "outputs": [],
   "source": [
    "import transform_data\n",
    "importlib.reload(transform_data)\n",
    "import frequencies\n",
    "importlib.reload(frequencies)"
   ]
  },
  {
   "cell_type": "code",
   "execution_count": null,
   "metadata": {},
   "outputs": [],
   "source": [
    "# import data\n",
    "data = {}\n",
    "\n",
    "with open(\"./data/output_data.json\", \"r\") as output_data_file:\n",
    "    try:\n",
    "        data = json.load(output_data_file)[\"words\"]\n",
    "    except Exception as e:\n",
    "        print(e)"
   ]
  },
  {
   "cell_type": "code",
   "execution_count": null,
   "metadata": {},
   "outputs": [],
   "source": [
    "# handle data\n",
    "X = []\n",
    "y = []\n",
    "\n",
    "onset_frequencies = { }\n",
    "tone_frequencies = { }\n",
    "\n",
    "for word_en, word_data in data.items():\n",
    "    onset = word_data[\"onset_en_ipa\"]\n",
    "    onset_frequencies[onset] = onset_frequencies[onset] + 1 if onset in onset_frequencies else 1\n",
    "\n",
    "    tone = word_data[\"onset_tone_num\"]\n",
    "    tone_frequencies[tone] = tone_frequencies[tone] + 1 if tone in tone_frequencies else 1\n",
    "\n",
    "frequencies, cond_probs = frequencies.get_data()\n",
    "\n",
    "for word_en, word_data in data.items():\n",
    "    onset = word_data[\"onset_en_ipa\"][0]\n",
    "    x = transform_data.vowel_qualities(word_data[\"onset_en_ipa\"][0])\n",
    "    # x.append(word_data[\"stresses_en\"][0])\n",
    "    x.append(word_data[\"stresses_en\"].index(1))\n",
    "    x.append(onset_frequencies[word_data[\"onset_en_ipa\"]])\n",
    "    # x.append(tone_frequencies[word_data[\"onset_tone_num\"]])\n",
    "    # x.append(tone_frequencies[word_data[\"onset_tone_num\"]])\n",
    "\n",
    "    X.append(x)\n",
    "    y.append(word_data[\"onset_tone_num\"])\n",
    "\n",
    "X_train, X_test, y_train, y_test = train_test_split(X, y, test_size=0.3, random_state=100)"
   ]
  },
  {
   "cell_type": "code",
   "execution_count": null,
   "metadata": {},
   "outputs": [],
   "source": [
    "y_pred = decision_tree(X_train, X_Test, )"
   ]
  },
  {
   "cell_type": "code",
   "execution_count": null,
   "metadata": {},
   "outputs": [],
   "source": [
    "tone_comparisons = list(zip(X_test, y_test, y_pred))\n",
    "print(tone_comparisons)\n",
    "\n",
    "# print metrics\n",
    "tone_counts = [0, 0, 0, 0]\n",
    "tone_corrects = [0, 0, 0, 0]\n",
    "\n",
    "for tone_comparison in tone_comparisons:\n",
    "    tone = int(tone_comparison[1])-1\n",
    "    tone_counts[tone] = tone_counts[tone] + 1\n",
    "\n",
    "    if tone_comparison[1] == tone_comparison[2]:\n",
    "        tone_corrects[tone] = tone_corrects[tone] + 1\n",
    "\n",
    "for t in range(4):\n",
    "    print(f\"tone {t+1} accuracy: {tone_corrects[t]}/{tone_counts[t]} ({tone_corrects[t]/tone_counts[t] * 100}%)\")"
   ]
  }
 ],
 "metadata": {
  "language_info": {
   "name": "python"
  },
  "orig_nbformat": 4
 },
 "nbformat": 4,
 "nbformat_minor": 2
}
